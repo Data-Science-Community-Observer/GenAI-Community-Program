{
 "cells": [
  {
   "cell_type": "markdown",
   "id": "view-in-github",
   "metadata": {
    "id": "view-in-github"
   },
   "source": [
    "<a href=\"https://colab.research.google.com/github/Data-Science-Community-Observer/GenAI-Community-Program/blob/main/01_Data_Source.ipynb\" target=\"_parent\"><img src=\"https://colab.research.google.com/assets/colab-badge.svg\" alt=\"Open In Colab\"/></a>"
   ]
  },
  {
   "cell_type": "markdown",
   "id": "NNJ0nWorgAFy",
   "metadata": {
    "id": "NNJ0nWorgAFy"
   },
   "source": [
    "Installing libraries to the workspace\n",
    "1.   **docling** (for document parsing)\n",
    "2.   **chromadb** (for storing embeddings)\n",
    "\n"
   ]
  },
  {
   "cell_type": "code",
   "execution_count": null,
   "id": "vVf2gjFLU3tb",
   "metadata": {
    "id": "vVf2gjFLU3tb"
   },
   "outputs": [],
   "source": [
    "# Preperation\n",
    "# ! pip install docling\n"
   ]
  },
  {
   "cell_type": "markdown",
   "id": "yiYTddIYgbqN",
   "metadata": {
    "id": "yiYTddIYgbqN"
   },
   "source": [
    "# **Before you move ahead**\n",
    "1. Mount Your Google Drive here\n",
    "2. Generate Hugging Face tocken and add to Colab Secrets (https://huggingface.co/settings/tokens)\n"
   ]
  },
  {
   "cell_type": "code",
   "execution_count": null,
   "id": "CZEzGSEsVtPo",
   "metadata": {
    "id": "CZEzGSEsVtPo"
   },
   "outputs": [],
   "source": [
    "# from google.colab import drive\n",
    "# drive.mount('/content/drive')"
   ]
  },
  {
   "cell_type": "markdown",
   "id": "pMgSKqTJg1y_",
   "metadata": {
    "id": "pMgSKqTJg1y_"
   },
   "source": [
    "**Loading Libraries**\n"
   ]
  },
  {
   "cell_type": "code",
   "execution_count": 1,
   "id": "d94c7360",
   "metadata": {
    "id": "d94c7360"
   },
   "outputs": [],
   "source": [
    "# Load Libraries\n",
    "from docling.document_converter import DocumentConverter\n",
    "converter = DocumentConverter()\n",
    "\n",
    "import os\n",
    "# os.chdir(\"/content/drive/MyDrive/Academics/GitHub/GenAI-Community-Program\")\n",
    "\n",
    "import sqlite3\n",
    "import datetime\n",
    "\n",
    "# Ensure the directory exists before connecting to the database\n",
    "os.makedirs('doc-db', exist_ok=True)\n",
    "\n",
    "# Connect to the database\n",
    "doc_db = sqlite3.connect('doc-db/document-db.db')"
   ]
  },
  {
   "cell_type": "code",
   "execution_count": 2,
   "id": "hCMGR1sWY3J4",
   "metadata": {
    "id": "hCMGR1sWY3J4"
   },
   "outputs": [],
   "source": [
    "# Step 1: One time Run\n",
    "cursor = doc_db.cursor()\n",
    "# Step 2: Create a table (if not already present)\n",
    "cursor.execute('''\n",
    "CREATE TABLE  IF NOT EXISTS ARXIVDOCS (\n",
    "    DOCID INTEGER PRIMARY KEY AUTOINCREMENT,\n",
    "    DOCNAME TEXT NOT NULL,\n",
    "    EXTRACTEDTEXT TEXT NOT NULL,\n",
    "    PROCESSTIME TEXT NOT NULL\n",
    ")\n",
    "''')\n",
    "\n",
    "def sql_update(DOCNAME, EXTRACTEDTEXT, PROCESSTIME):\n",
    "  cursor = doc_db.cursor()\n",
    "  cursor.execute('''\n",
    "  INSERT INTO ARXIVDOCS (DOCNAME, EXTRACTEDTEXT, PROCESSTIME)\n",
    "  VALUES (?, ?, ?)\n",
    "  ''', (DOCNAME, EXTRACTEDTEXT, PROCESSTIME))\n",
    "  doc_db.commit()"
   ]
  },
  {
   "cell_type": "code",
   "execution_count": 3,
   "id": "d42a07fb",
   "metadata": {
    "id": "d42a07fb"
   },
   "outputs": [
    {
     "data": {
      "text/plain": [
       "['arxiv-papers/Baryon asymmetry constraints on magnetic field from the Electroweak epoch.pdf',\n",
       " 'arxiv-papers/Beyond the Frame- Generating 360° Panoramic Videos from Perspective Videos.pdf',\n",
       " 'arxiv-papers/BoxDreamer- Dreaming Box Corners for Generalizable Object Pose Estimation.pdf',\n",
       " 'arxiv-papers/Cat, Rat, Meow- On the Alignment of Language Model and Human Term-Similarity Judgments.pdf',\n",
       " 'arxiv-papers/CCMNet- Leveraging Calibrated Color Correction Matrices for Cross-Camera Color Constancy.pdf',\n",
       " 'arxiv-papers/GenEAva- Generating Cartoon Avatars with Fine-Grained Facial Expressions from Realistic Diffusion-based Faces.pdf',\n",
       " 'arxiv-papers/Geo4D- Leveraging Video Generators for Geometric 4D Scene Reconstruction.pdf',\n",
       " 'arxiv-papers/HoloPart- Generative 3D Part Amodal Segmentation.pdf',\n",
       " 'arxiv-papers/Localized quasiparticles in a fluxonium with quasi-two-dimensional amorphous kinetic inductors.pdf',\n",
       " 'arxiv-papers/Market-Based Portfolio Selection.pdf',\n",
       " 'arxiv-papers/MM-IFEngine- Towards Multimodal Instruction Following.pdf',\n",
       " 'arxiv-papers/PixelFlow- Pixel-Space Generative Models with Flow.pdf',\n",
       " 'arxiv-papers/Pushing the Accuracy Limit of Foundation Neural Network Models with Quantum Monte Carlo Forces and Path Integrals.pdf',\n",
       " 'arxiv-papers/Trading Graph Neural Network.pdf',\n",
       " 'arxiv-papers/VisualCloze- A Universal Image Generation Framework via Visual In-Context Learning.pdf',\n",
       " 'arxiv-papers/We Are All Creators- Generative AI, Collective Knowledge, and the Path Towards Human-AI Synergy.pdf',\n",
       " 'arxiv-papers/Zero-Shot Low-dose CT Denoising via Sinogram Flicking.pdf']"
      ]
     },
     "execution_count": 3,
     "metadata": {},
     "output_type": "execute_result"
    }
   ],
   "source": [
    "files = os.listdir(\"arxiv-papers\")\n",
    "files = [\"arxiv-papers/\" + f for f in files]\n",
    "files"
   ]
  },
  {
   "cell_type": "code",
   "execution_count": 4,
   "id": "3d2ddcdf",
   "metadata": {
    "id": "3d2ddcdf"
   },
   "outputs": [
    {
     "name": "stdout",
     "output_type": "stream",
     "text": [
      "arxiv-papers/Baryon asymmetry constraints on magnetic field from the Electroweak epoch.pdf\n"
     ]
    },
    {
     "name": "stderr",
     "output_type": "stream",
     "text": [
      "C:\\Users\\anant\\AppData\\Local\\Temp\\ipykernel_18732\\3673503596.py:15: DeprecationWarning: The default datetime adapter is deprecated as of Python 3.12; see the sqlite3 documentation for suggested replacement recipes\n",
      "  cursor.execute('''\n"
     ]
    },
    {
     "name": "stdout",
     "output_type": "stream",
     "text": [
      "arxiv-papers/Beyond the Frame- Generating 360° Panoramic Videos from Perspective Videos.pdf\n",
      "arxiv-papers/BoxDreamer- Dreaming Box Corners for Generalizable Object Pose Estimation.pdf\n",
      "arxiv-papers/Cat, Rat, Meow- On the Alignment of Language Model and Human Term-Similarity Judgments.pdf\n",
      "arxiv-papers/CCMNet- Leveraging Calibrated Color Correction Matrices for Cross-Camera Color Constancy.pdf\n",
      "arxiv-papers/GenEAva- Generating Cartoon Avatars with Fine-Grained Facial Expressions from Realistic Diffusion-based Faces.pdf\n",
      "arxiv-papers/Geo4D- Leveraging Video Generators for Geometric 4D Scene Reconstruction.pdf\n",
      "arxiv-papers/HoloPart- Generative 3D Part Amodal Segmentation.pdf\n",
      "arxiv-papers/Localized quasiparticles in a fluxonium with quasi-two-dimensional amorphous kinetic inductors.pdf\n",
      "arxiv-papers/Market-Based Portfolio Selection.pdf\n",
      "arxiv-papers/MM-IFEngine- Towards Multimodal Instruction Following.pdf\n",
      "arxiv-papers/PixelFlow- Pixel-Space Generative Models with Flow.pdf\n",
      "arxiv-papers/Pushing the Accuracy Limit of Foundation Neural Network Models with Quantum Monte Carlo Forces and Path Integrals.pdf\n",
      "arxiv-papers/Trading Graph Neural Network.pdf\n",
      "arxiv-papers/VisualCloze- A Universal Image Generation Framework via Visual In-Context Learning.pdf\n",
      "arxiv-papers/We Are All Creators- Generative AI, Collective Knowledge, and the Path Towards Human-AI Synergy.pdf\n",
      "arxiv-papers/Zero-Shot Low-dose CT Denoising via Sinogram Flicking.pdf\n"
     ]
    }
   ],
   "source": [
    "for file in files:\n",
    "  print(file)\n",
    "  try:\n",
    "    result = converter.convert(file)\n",
    "    sql_update(file, result.document.export_to_markdown(), datetime.datetime.now())\n",
    "  except Exception as e:\n",
    "    print(e)\n",
    "  # break"
   ]
  },
  {
   "cell_type": "code",
   "execution_count": 5,
   "id": "13aHXzCgkGFi",
   "metadata": {
    "id": "13aHXzCgkGFi"
   },
   "outputs": [],
   "source": [
    "# Delete duplicates based on DOCID (keep the first one)\n",
    "cursor.execute('''\n",
    "DELETE FROM ARXIVDOCS\n",
    "WHERE DOCID NOT IN (\n",
    "    SELECT MIN(DOCID)\n",
    "    FROM ARXIVDOCS\n",
    "    GROUP BY DOCNAME\n",
    ");\n",
    "''')\n",
    "\n",
    "doc_db.commit()\n",
    "\n"
   ]
  },
  {
   "cell_type": "code",
   "execution_count": 6,
   "id": "QnJc4O4Glvt1",
   "metadata": {
    "id": "QnJc4O4Glvt1"
   },
   "outputs": [
    {
     "data": {
      "text/html": [
       "<div>\n",
       "<style scoped>\n",
       "    .dataframe tbody tr th:only-of-type {\n",
       "        vertical-align: middle;\n",
       "    }\n",
       "\n",
       "    .dataframe tbody tr th {\n",
       "        vertical-align: top;\n",
       "    }\n",
       "\n",
       "    .dataframe thead th {\n",
       "        text-align: right;\n",
       "    }\n",
       "</style>\n",
       "<table border=\"1\" class=\"dataframe\">\n",
       "  <thead>\n",
       "    <tr style=\"text-align: right;\">\n",
       "      <th></th>\n",
       "      <th>DOCID</th>\n",
       "      <th>DOCNAME</th>\n",
       "      <th>EXTRACTEDTEXT</th>\n",
       "      <th>PROCESSTIME</th>\n",
       "    </tr>\n",
       "  </thead>\n",
       "  <tbody>\n",
       "    <tr>\n",
       "      <th>0</th>\n",
       "      <td>1</td>\n",
       "      <td>arxiv-papers/Cat, Rat, Meow- On the Alignment ...</td>\n",
       "      <td>## CAT, RAT, MEOW: ON THE ALIGNMENT OF LANGUAG...</td>\n",
       "      <td>2025-04-19 12:40:21.091999</td>\n",
       "    </tr>\n",
       "    <tr>\n",
       "      <th>1</th>\n",
       "      <td>2</td>\n",
       "      <td>arxiv-papers/PixelFlow- Pixel-Space Generative...</td>\n",
       "      <td>## PixelFlow: Pixel-Space Generative Models wi...</td>\n",
       "      <td>2025-04-19 12:40:48.854212</td>\n",
       "    </tr>\n",
       "    <tr>\n",
       "      <th>2</th>\n",
       "      <td>3</td>\n",
       "      <td>arxiv-papers/Geo4D- Leveraging Video Generator...</td>\n",
       "      <td>## Geo4D: Leveraging Video Generators for Geom...</td>\n",
       "      <td>2025-04-19 12:41:27.245939</td>\n",
       "    </tr>\n",
       "    <tr>\n",
       "      <th>3</th>\n",
       "      <td>4</td>\n",
       "      <td>arxiv-papers/VisualCloze- A Universal Image Ge...</td>\n",
       "      <td>## VisualCloze: A Universal Image Generation F...</td>\n",
       "      <td>2025-04-19 12:42:04.736512</td>\n",
       "    </tr>\n",
       "    <tr>\n",
       "      <th>4</th>\n",
       "      <td>5</td>\n",
       "      <td>arxiv-papers/CCMNet- Leveraging Calibrated Col...</td>\n",
       "      <td>## CCMNet: Leveraging Calibrated Color Correct...</td>\n",
       "      <td>2025-04-19 12:42:39.247737</td>\n",
       "    </tr>\n",
       "    <tr>\n",
       "      <th>5</th>\n",
       "      <td>6</td>\n",
       "      <td>arxiv-papers/MM-IFEngine- Towards Multimodal I...</td>\n",
       "      <td>## MM-IFEngine: Towards Multimodal Instruction...</td>\n",
       "      <td>2025-04-19 12:43:43.810354</td>\n",
       "    </tr>\n",
       "    <tr>\n",
       "      <th>6</th>\n",
       "      <td>7</td>\n",
       "      <td>arxiv-papers/BoxDreamer- Dreaming Box Corners ...</td>\n",
       "      <td>## BoxDreamer: Dreaming Box Corners for Genera...</td>\n",
       "      <td>2025-04-19 12:49:46.561714</td>\n",
       "    </tr>\n",
       "    <tr>\n",
       "      <th>7</th>\n",
       "      <td>8</td>\n",
       "      <td>arxiv-papers/Localized quasiparticles in a flu...</td>\n",
       "      <td>## Localized quasiparticles in a fluxonium wit...</td>\n",
       "      <td>2025-04-19 12:54:20.405602</td>\n",
       "    </tr>\n",
       "    <tr>\n",
       "      <th>8</th>\n",
       "      <td>9</td>\n",
       "      <td>arxiv-papers/Pushing the Accuracy Limit of Fou...</td>\n",
       "      <td>## Pushing the Accuracy Limit of Foundation Ne...</td>\n",
       "      <td>2025-04-19 12:55:10.562495</td>\n",
       "    </tr>\n",
       "    <tr>\n",
       "      <th>9</th>\n",
       "      <td>10</td>\n",
       "      <td>arxiv-papers/GenEAva- Generating Cartoon Avata...</td>\n",
       "      <td>## GenEAva: Generating Cartoon Avatars with Fi...</td>\n",
       "      <td>2025-04-19 12:55:36.620209</td>\n",
       "    </tr>\n",
       "    <tr>\n",
       "      <th>10</th>\n",
       "      <td>11</td>\n",
       "      <td>arxiv-papers/HoloPart- Generative 3D Part Amod...</td>\n",
       "      <td>## HoloPart: Generative 3D Part Amodal Segment...</td>\n",
       "      <td>2025-04-19 12:56:20.002335</td>\n",
       "    </tr>\n",
       "    <tr>\n",
       "      <th>11</th>\n",
       "      <td>12</td>\n",
       "      <td>arxiv-papers/Beyond the Frame- Generating 360°...</td>\n",
       "      <td>## Beyond the Frame: Generating 360 ◦ Panorami...</td>\n",
       "      <td>2025-04-19 12:56:50.634712</td>\n",
       "    </tr>\n",
       "    <tr>\n",
       "      <th>12</th>\n",
       "      <td>13</td>\n",
       "      <td>arxiv-papers/Baryon asymmetry constraints on m...</td>\n",
       "      <td>## Baryon asymmetry constraints on magnetic fi...</td>\n",
       "      <td>2025-04-19 12:57:06.713083</td>\n",
       "    </tr>\n",
       "    <tr>\n",
       "      <th>13</th>\n",
       "      <td>14</td>\n",
       "      <td>arxiv-papers/We Are All Creators- Generative A...</td>\n",
       "      <td>## We Are All Creators: Generative AI, Collect...</td>\n",
       "      <td>2025-04-19 12:57:22.084093</td>\n",
       "    </tr>\n",
       "    <tr>\n",
       "      <th>14</th>\n",
       "      <td>15</td>\n",
       "      <td>arxiv-papers/Market-Based Portfolio Selection.pdf</td>\n",
       "      <td>## Market-Based Portfolio Selection\\n\\nVictor ...</td>\n",
       "      <td>2025-04-19 12:57:50.426515</td>\n",
       "    </tr>\n",
       "    <tr>\n",
       "      <th>15</th>\n",
       "      <td>16</td>\n",
       "      <td>arxiv-papers/Zero-Shot Low-dose CT Denoising v...</td>\n",
       "      <td>## Zero-Shot Low-dose CT Denoising via Sinogra...</td>\n",
       "      <td>2025-04-19 12:58:01.433468</td>\n",
       "    </tr>\n",
       "    <tr>\n",
       "      <th>16</th>\n",
       "      <td>17</td>\n",
       "      <td>arxiv-papers/Trading Graph Neural Network.pdf</td>\n",
       "      <td>## Trading Graph Neural Network\\n\\n## Xian Wu ...</td>\n",
       "      <td>2025-04-19 12:58:43.189365</td>\n",
       "    </tr>\n",
       "  </tbody>\n",
       "</table>\n",
       "</div>"
      ],
      "text/plain": [
       "    DOCID                                            DOCNAME  \\\n",
       "0       1  arxiv-papers/Cat, Rat, Meow- On the Alignment ...   \n",
       "1       2  arxiv-papers/PixelFlow- Pixel-Space Generative...   \n",
       "2       3  arxiv-papers/Geo4D- Leveraging Video Generator...   \n",
       "3       4  arxiv-papers/VisualCloze- A Universal Image Ge...   \n",
       "4       5  arxiv-papers/CCMNet- Leveraging Calibrated Col...   \n",
       "5       6  arxiv-papers/MM-IFEngine- Towards Multimodal I...   \n",
       "6       7  arxiv-papers/BoxDreamer- Dreaming Box Corners ...   \n",
       "7       8  arxiv-papers/Localized quasiparticles in a flu...   \n",
       "8       9  arxiv-papers/Pushing the Accuracy Limit of Fou...   \n",
       "9      10  arxiv-papers/GenEAva- Generating Cartoon Avata...   \n",
       "10     11  arxiv-papers/HoloPart- Generative 3D Part Amod...   \n",
       "11     12  arxiv-papers/Beyond the Frame- Generating 360°...   \n",
       "12     13  arxiv-papers/Baryon asymmetry constraints on m...   \n",
       "13     14  arxiv-papers/We Are All Creators- Generative A...   \n",
       "14     15  arxiv-papers/Market-Based Portfolio Selection.pdf   \n",
       "15     16  arxiv-papers/Zero-Shot Low-dose CT Denoising v...   \n",
       "16     17      arxiv-papers/Trading Graph Neural Network.pdf   \n",
       "\n",
       "                                        EXTRACTEDTEXT  \\\n",
       "0   ## CAT, RAT, MEOW: ON THE ALIGNMENT OF LANGUAG...   \n",
       "1   ## PixelFlow: Pixel-Space Generative Models wi...   \n",
       "2   ## Geo4D: Leveraging Video Generators for Geom...   \n",
       "3   ## VisualCloze: A Universal Image Generation F...   \n",
       "4   ## CCMNet: Leveraging Calibrated Color Correct...   \n",
       "5   ## MM-IFEngine: Towards Multimodal Instruction...   \n",
       "6   ## BoxDreamer: Dreaming Box Corners for Genera...   \n",
       "7   ## Localized quasiparticles in a fluxonium wit...   \n",
       "8   ## Pushing the Accuracy Limit of Foundation Ne...   \n",
       "9   ## GenEAva: Generating Cartoon Avatars with Fi...   \n",
       "10  ## HoloPart: Generative 3D Part Amodal Segment...   \n",
       "11  ## Beyond the Frame: Generating 360 ◦ Panorami...   \n",
       "12  ## Baryon asymmetry constraints on magnetic fi...   \n",
       "13  ## We Are All Creators: Generative AI, Collect...   \n",
       "14  ## Market-Based Portfolio Selection\\n\\nVictor ...   \n",
       "15  ## Zero-Shot Low-dose CT Denoising via Sinogra...   \n",
       "16  ## Trading Graph Neural Network\\n\\n## Xian Wu ...   \n",
       "\n",
       "                   PROCESSTIME  \n",
       "0   2025-04-19 12:40:21.091999  \n",
       "1   2025-04-19 12:40:48.854212  \n",
       "2   2025-04-19 12:41:27.245939  \n",
       "3   2025-04-19 12:42:04.736512  \n",
       "4   2025-04-19 12:42:39.247737  \n",
       "5   2025-04-19 12:43:43.810354  \n",
       "6   2025-04-19 12:49:46.561714  \n",
       "7   2025-04-19 12:54:20.405602  \n",
       "8   2025-04-19 12:55:10.562495  \n",
       "9   2025-04-19 12:55:36.620209  \n",
       "10  2025-04-19 12:56:20.002335  \n",
       "11  2025-04-19 12:56:50.634712  \n",
       "12  2025-04-19 12:57:06.713083  \n",
       "13  2025-04-19 12:57:22.084093  \n",
       "14  2025-04-19 12:57:50.426515  \n",
       "15  2025-04-19 12:58:01.433468  \n",
       "16  2025-04-19 12:58:43.189365  "
      ]
     },
     "execution_count": 6,
     "metadata": {},
     "output_type": "execute_result"
    }
   ],
   "source": [
    "import pandas as pd\n",
    "rows = cursor.execute(\"select * from ARXIVDOCS\").fetchall()\n",
    "columns = [desc[0] for desc in cursor.description]\n",
    "df = pd.DataFrame(rows, columns=columns)\n",
    "df"
   ]
  }
 ],
 "metadata": {
  "accelerator": "GPU",
  "colab": {
   "gpuType": "T4",
   "provenance": []
  },
  "kernelspec": {
   "display_name": "base",
   "language": "python",
   "name": "python3"
  },
  "language_info": {
   "codemirror_mode": {
    "name": "ipython",
    "version": 3
   },
   "file_extension": ".py",
   "mimetype": "text/x-python",
   "name": "python",
   "nbconvert_exporter": "python",
   "pygments_lexer": "ipython3",
   "version": "3.12.7"
  }
 },
 "nbformat": 4,
 "nbformat_minor": 5
}
