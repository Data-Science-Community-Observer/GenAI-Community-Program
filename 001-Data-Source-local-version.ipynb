{
 "cells": [
  {
   "cell_type": "markdown",
   "id": "pMgSKqTJg1y_",
   "metadata": {
    "id": "pMgSKqTJg1y_"
   },
   "source": [
    "**Loading Libraries**\n"
   ]
  },
  {
   "cell_type": "code",
   "execution_count": null,
   "id": "d94c7360",
   "metadata": {
    "id": "d94c7360"
   },
   "outputs": [],
   "source": [
    "# Load Libraries\n",
    "from docling.document_converter import DocumentConverter\n",
    "converter = DocumentConverter()\n",
    "\n",
    "import os\n",
    "import pandas as pd\n",
    "import sqlite3\n",
    "import datetime\n",
    "\n",
    "# Ensure the directory exists before connecting to the database\n",
    "os.makedirs('doc-db', exist_ok=True)\n",
    "\n",
    "# Connect to the database\n",
    "doc_db = sqlite3.connect('doc-db/document-db.db')"
   ]
  },
  {
   "cell_type": "code",
   "execution_count": null,
   "id": "hCMGR1sWY3J4",
   "metadata": {
    "id": "hCMGR1sWY3J4"
   },
   "outputs": [],
   "source": [
    "# Step 1: One time Run\n",
    "cursor = doc_db.cursor()\n",
    "# Step 2: Create a table (if not already present)\n",
    "cursor.execute('''\n",
    "CREATE TABLE  IF NOT EXISTS ARXIVDOCS (\n",
    "    DOCID INTEGER PRIMARY KEY AUTOINCREMENT,\n",
    "    DOCNAME TEXT NOT NULL,\n",
    "    EXTRACTEDTEXT TEXT NOT NULL,\n",
    "    PROCESSTIME TEXT NOT NULL\n",
    ")\n",
    "''')\n",
    "\n",
    "def sql_update(DOCNAME, EXTRACTEDTEXT, PROCESSTIME):\n",
    "  cursor = doc_db.cursor()\n",
    "  cursor.execute('''\n",
    "  INSERT INTO ARXIVDOCS (DOCNAME, EXTRACTEDTEXT, PROCESSTIME)\n",
    "  VALUES (?, ?, ?)\n",
    "  ''', (DOCNAME, EXTRACTEDTEXT, PROCESSTIME))\n",
    "  doc_db.commit()"
   ]
  },
  {
   "cell_type": "code",
   "execution_count": null,
   "id": "d42a07fb",
   "metadata": {
    "id": "d42a07fb"
   },
   "outputs": [],
   "source": [
    "files = os.listdir(\"arxiv-papers\")\n",
    "files = [\"arxiv-papers/\" + f for f in files]\n",
    "files"
   ]
  },
  {
   "cell_type": "code",
   "execution_count": null,
   "id": "3d2ddcdf",
   "metadata": {
    "id": "3d2ddcdf"
   },
   "outputs": [],
   "source": [
    "for file in files:\n",
    "  print(file)\n",
    "  try:\n",
    "    result = converter.convert(file)\n",
    "    sql_update(file, result.document.export_to_markdown(), datetime.datetime.now())\n",
    "  except Exception as e:\n",
    "    print(e)\n",
    "  # break"
   ]
  },
  {
   "cell_type": "code",
   "execution_count": null,
   "id": "13aHXzCgkGFi",
   "metadata": {
    "id": "13aHXzCgkGFi"
   },
   "outputs": [],
   "source": [
    "# Delete duplicates based on DOCID (keep the first one)\n",
    "cursor.execute('''\n",
    "DELETE FROM ARXIVDOCS\n",
    "WHERE DOCID NOT IN (\n",
    "    SELECT MIN(DOCID)\n",
    "    FROM ARXIVDOCS\n",
    "    GROUP BY DOCNAME\n",
    ");\n",
    "''')\n",
    "\n",
    "doc_db.commit()\n",
    "\n"
   ]
  },
  {
   "cell_type": "code",
   "execution_count": null,
   "id": "QnJc4O4Glvt1",
   "metadata": {
    "id": "QnJc4O4Glvt1"
   },
   "outputs": [],
   "source": [
    "\n",
    "rows = cursor.execute(\"select * from ARXIVDOCS\").fetchall()\n",
    "columns = [desc[0] for desc in cursor.description]\n",
    "df = pd.DataFrame(rows, columns=columns)\n",
    "df"
   ]
  }
 ],
 "metadata": {
  "accelerator": "GPU",
  "colab": {
   "gpuType": "T4",
   "provenance": []
  },
  "kernelspec": {
   "display_name": "base",
   "language": "python",
   "name": "python3"
  },
  "language_info": {
   "codemirror_mode": {
    "name": "ipython",
    "version": 3
   },
   "file_extension": ".py",
   "mimetype": "text/x-python",
   "name": "python",
   "nbconvert_exporter": "python",
   "pygments_lexer": "ipython3",
   "version": "3.12.7"
  }
 },
 "nbformat": 4,
 "nbformat_minor": 5
}
